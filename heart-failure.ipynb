{
 "cells": [
  {
   "cell_type": "code",
   "execution_count": 1,
   "id": "cc6d7b21",
   "metadata": {
    "_cell_guid": "b1076dfc-b9ad-4769-8c92-a6c4dae69d19",
    "_uuid": "8f2839f25d086af736a60e9eeb907d3b93b6e0e5",
    "execution": {
     "iopub.execute_input": "2021-11-08T19:36:26.891332Z",
     "iopub.status.busy": "2021-11-08T19:36:26.889942Z",
     "iopub.status.idle": "2021-11-08T19:36:26.908987Z",
     "shell.execute_reply": "2021-11-08T19:36:26.909645Z",
     "shell.execute_reply.started": "2021-11-08T19:20:35.986344Z"
    },
    "papermill": {
     "duration": 0.063541,
     "end_time": "2021-11-08T19:36:26.909955",
     "exception": false,
     "start_time": "2021-11-08T19:36:26.846414",
     "status": "completed"
    },
    "tags": []
   },
   "outputs": [
    {
     "name": "stdout",
     "output_type": "stream",
     "text": [
      "/kaggle/input/heart-failure-clinical-data/heart_failure_clinical_records_dataset.csv\n"
     ]
    }
   ],
   "source": [
    "# This Python 3 environment comes with many helpful analytics libraries installed\n",
    "# It is defined by the kaggle/python Docker image: https://github.com/kaggle/docker-python\n",
    "# For example, here's several helpful packages to load\n",
    "\n",
    "import numpy as np # linear algebra\n",
    "import pandas as pd # data processing, CSV file I/O (e.g. pd.read_csv)\n",
    "\n",
    "# Input data files are available in the read-only \"../input/\" directory\n",
    "# For example, running this (by clicking run or pressing Shift+Enter) will list all files under the input directory\n",
    "\n",
    "import os\n",
    "for dirname, _, filenames in os.walk('/kaggle/input'):\n",
    "    for filename in filenames:\n",
    "        print(os.path.join(dirname, filename))\n",
    "\n",
    "# You can write up to 20GB to the current directory (/kaggle/working/) that gets preserved as output when you create a version using \"Save & Run All\" \n",
    "# You can also write temporary files to /kaggle/temp/, but they won't be saved outside of the current session"
   ]
  },
  {
   "cell_type": "markdown",
   "id": "8c92e954",
   "metadata": {
    "papermill": {
     "duration": 0.038466,
     "end_time": "2021-11-08T19:36:26.987950",
     "exception": false,
     "start_time": "2021-11-08T19:36:26.949484",
     "status": "completed"
    },
    "tags": []
   },
   "source": [
    "# Import Data & Libraries"
   ]
  },
  {
   "cell_type": "code",
   "execution_count": 2,
   "id": "1899fb63",
   "metadata": {
    "execution": {
     "iopub.execute_input": "2021-11-08T19:36:27.068095Z",
     "iopub.status.busy": "2021-11-08T19:36:27.067423Z",
     "iopub.status.idle": "2021-11-08T19:36:28.447653Z",
     "shell.execute_reply": "2021-11-08T19:36:28.447044Z",
     "shell.execute_reply.started": "2021-11-08T19:20:35.996490Z"
    },
    "papermill": {
     "duration": 1.421702,
     "end_time": "2021-11-08T19:36:28.447814",
     "exception": false,
     "start_time": "2021-11-08T19:36:27.026112",
     "status": "completed"
    },
    "tags": []
   },
   "outputs": [],
   "source": [
    "import pandas as pd\n",
    "import numpy as np\n",
    "import seaborn as sns\n",
    "import matplotlib.pyplot as plt\n",
    "from time import time\n",
    "from scipy import stats\n",
    "\n",
    "from sklearn.linear_model import LinearRegression\n",
    "from sklearn.svm import SVR\n",
    "from sklearn.ensemble import RandomForestRegressor\n",
    "from sklearn.linear_model import BayesianRidge\n",
    "from sklearn.tree import DecisionTreeRegressor\n",
    "from sklearn.model_selection import RandomizedSearchCV,cross_val_score, GridSearchCV\n",
    "from sklearn.metrics import accuracy_score, roc_auc_score,make_scorer, mean_squared_error\n",
    "from sklearn.compose import ColumnTransformer\n",
    "from sklearn.preprocessing import MinMaxScaler\n",
    "\n",
    "\n",
    "\n",
    "\n",
    "\n",
    "df = pd.read_csv(\"../input/heart-failure-clinical-data/heart_failure_clinical_records_dataset.csv\")"
   ]
  },
  {
   "cell_type": "markdown",
   "id": "5d957b74",
   "metadata": {
    "papermill": {
     "duration": 0.038387,
     "end_time": "2021-11-08T19:36:28.525401",
     "exception": false,
     "start_time": "2021-11-08T19:36:28.487014",
     "status": "completed"
    },
    "tags": []
   },
   "source": [
    "# Exploratory Data Analysis"
   ]
  },
  {
   "cell_type": "code",
   "execution_count": 3,
   "id": "accf2e86",
   "metadata": {
    "execution": {
     "iopub.execute_input": "2021-11-08T19:36:28.605134Z",
     "iopub.status.busy": "2021-11-08T19:36:28.604468Z",
     "iopub.status.idle": "2021-11-08T19:36:28.638134Z",
     "shell.execute_reply": "2021-11-08T19:36:28.637588Z",
     "shell.execute_reply.started": "2021-11-08T19:20:36.028811Z"
    },
    "papermill": {
     "duration": 0.074637,
     "end_time": "2021-11-08T19:36:28.638315",
     "exception": false,
     "start_time": "2021-11-08T19:36:28.563678",
     "status": "completed"
    },
    "tags": []
   },
   "outputs": [
    {
     "data": {
      "text/html": [
       "<div>\n",
       "<style scoped>\n",
       "    .dataframe tbody tr th:only-of-type {\n",
       "        vertical-align: middle;\n",
       "    }\n",
       "\n",
       "    .dataframe tbody tr th {\n",
       "        vertical-align: top;\n",
       "    }\n",
       "\n",
       "    .dataframe thead th {\n",
       "        text-align: right;\n",
       "    }\n",
       "</style>\n",
       "<table border=\"1\" class=\"dataframe\">\n",
       "  <thead>\n",
       "    <tr style=\"text-align: right;\">\n",
       "      <th></th>\n",
       "      <th>age</th>\n",
       "      <th>anaemia</th>\n",
       "      <th>creatinine_phosphokinase</th>\n",
       "      <th>diabetes</th>\n",
       "      <th>ejection_fraction</th>\n",
       "      <th>high_blood_pressure</th>\n",
       "      <th>platelets</th>\n",
       "      <th>serum_creatinine</th>\n",
       "      <th>serum_sodium</th>\n",
       "      <th>sex</th>\n",
       "      <th>smoking</th>\n",
       "      <th>time</th>\n",
       "      <th>DEATH_EVENT</th>\n",
       "    </tr>\n",
       "  </thead>\n",
       "  <tbody>\n",
       "    <tr>\n",
       "      <th>0</th>\n",
       "      <td>75.0</td>\n",
       "      <td>0</td>\n",
       "      <td>582</td>\n",
       "      <td>0</td>\n",
       "      <td>20</td>\n",
       "      <td>1</td>\n",
       "      <td>265000.00</td>\n",
       "      <td>1.9</td>\n",
       "      <td>130</td>\n",
       "      <td>1</td>\n",
       "      <td>0</td>\n",
       "      <td>4</td>\n",
       "      <td>1</td>\n",
       "    </tr>\n",
       "    <tr>\n",
       "      <th>1</th>\n",
       "      <td>55.0</td>\n",
       "      <td>0</td>\n",
       "      <td>7861</td>\n",
       "      <td>0</td>\n",
       "      <td>38</td>\n",
       "      <td>0</td>\n",
       "      <td>263358.03</td>\n",
       "      <td>1.1</td>\n",
       "      <td>136</td>\n",
       "      <td>1</td>\n",
       "      <td>0</td>\n",
       "      <td>6</td>\n",
       "      <td>1</td>\n",
       "    </tr>\n",
       "    <tr>\n",
       "      <th>2</th>\n",
       "      <td>65.0</td>\n",
       "      <td>0</td>\n",
       "      <td>146</td>\n",
       "      <td>0</td>\n",
       "      <td>20</td>\n",
       "      <td>0</td>\n",
       "      <td>162000.00</td>\n",
       "      <td>1.3</td>\n",
       "      <td>129</td>\n",
       "      <td>1</td>\n",
       "      <td>1</td>\n",
       "      <td>7</td>\n",
       "      <td>1</td>\n",
       "    </tr>\n",
       "    <tr>\n",
       "      <th>3</th>\n",
       "      <td>50.0</td>\n",
       "      <td>1</td>\n",
       "      <td>111</td>\n",
       "      <td>0</td>\n",
       "      <td>20</td>\n",
       "      <td>0</td>\n",
       "      <td>210000.00</td>\n",
       "      <td>1.9</td>\n",
       "      <td>137</td>\n",
       "      <td>1</td>\n",
       "      <td>0</td>\n",
       "      <td>7</td>\n",
       "      <td>1</td>\n",
       "    </tr>\n",
       "    <tr>\n",
       "      <th>4</th>\n",
       "      <td>65.0</td>\n",
       "      <td>1</td>\n",
       "      <td>160</td>\n",
       "      <td>1</td>\n",
       "      <td>20</td>\n",
       "      <td>0</td>\n",
       "      <td>327000.00</td>\n",
       "      <td>2.7</td>\n",
       "      <td>116</td>\n",
       "      <td>0</td>\n",
       "      <td>0</td>\n",
       "      <td>8</td>\n",
       "      <td>1</td>\n",
       "    </tr>\n",
       "    <tr>\n",
       "      <th>...</th>\n",
       "      <td>...</td>\n",
       "      <td>...</td>\n",
       "      <td>...</td>\n",
       "      <td>...</td>\n",
       "      <td>...</td>\n",
       "      <td>...</td>\n",
       "      <td>...</td>\n",
       "      <td>...</td>\n",
       "      <td>...</td>\n",
       "      <td>...</td>\n",
       "      <td>...</td>\n",
       "      <td>...</td>\n",
       "      <td>...</td>\n",
       "    </tr>\n",
       "    <tr>\n",
       "      <th>294</th>\n",
       "      <td>62.0</td>\n",
       "      <td>0</td>\n",
       "      <td>61</td>\n",
       "      <td>1</td>\n",
       "      <td>38</td>\n",
       "      <td>1</td>\n",
       "      <td>155000.00</td>\n",
       "      <td>1.1</td>\n",
       "      <td>143</td>\n",
       "      <td>1</td>\n",
       "      <td>1</td>\n",
       "      <td>270</td>\n",
       "      <td>0</td>\n",
       "    </tr>\n",
       "    <tr>\n",
       "      <th>295</th>\n",
       "      <td>55.0</td>\n",
       "      <td>0</td>\n",
       "      <td>1820</td>\n",
       "      <td>0</td>\n",
       "      <td>38</td>\n",
       "      <td>0</td>\n",
       "      <td>270000.00</td>\n",
       "      <td>1.2</td>\n",
       "      <td>139</td>\n",
       "      <td>0</td>\n",
       "      <td>0</td>\n",
       "      <td>271</td>\n",
       "      <td>0</td>\n",
       "    </tr>\n",
       "    <tr>\n",
       "      <th>296</th>\n",
       "      <td>45.0</td>\n",
       "      <td>0</td>\n",
       "      <td>2060</td>\n",
       "      <td>1</td>\n",
       "      <td>60</td>\n",
       "      <td>0</td>\n",
       "      <td>742000.00</td>\n",
       "      <td>0.8</td>\n",
       "      <td>138</td>\n",
       "      <td>0</td>\n",
       "      <td>0</td>\n",
       "      <td>278</td>\n",
       "      <td>0</td>\n",
       "    </tr>\n",
       "    <tr>\n",
       "      <th>297</th>\n",
       "      <td>45.0</td>\n",
       "      <td>0</td>\n",
       "      <td>2413</td>\n",
       "      <td>0</td>\n",
       "      <td>38</td>\n",
       "      <td>0</td>\n",
       "      <td>140000.00</td>\n",
       "      <td>1.4</td>\n",
       "      <td>140</td>\n",
       "      <td>1</td>\n",
       "      <td>1</td>\n",
       "      <td>280</td>\n",
       "      <td>0</td>\n",
       "    </tr>\n",
       "    <tr>\n",
       "      <th>298</th>\n",
       "      <td>50.0</td>\n",
       "      <td>0</td>\n",
       "      <td>196</td>\n",
       "      <td>0</td>\n",
       "      <td>45</td>\n",
       "      <td>0</td>\n",
       "      <td>395000.00</td>\n",
       "      <td>1.6</td>\n",
       "      <td>136</td>\n",
       "      <td>1</td>\n",
       "      <td>1</td>\n",
       "      <td>285</td>\n",
       "      <td>0</td>\n",
       "    </tr>\n",
       "  </tbody>\n",
       "</table>\n",
       "<p>299 rows × 13 columns</p>\n",
       "</div>"
      ],
      "text/plain": [
       "      age  anaemia  creatinine_phosphokinase  diabetes  ejection_fraction  \\\n",
       "0    75.0        0                       582         0                 20   \n",
       "1    55.0        0                      7861         0                 38   \n",
       "2    65.0        0                       146         0                 20   \n",
       "3    50.0        1                       111         0                 20   \n",
       "4    65.0        1                       160         1                 20   \n",
       "..    ...      ...                       ...       ...                ...   \n",
       "294  62.0        0                        61         1                 38   \n",
       "295  55.0        0                      1820         0                 38   \n",
       "296  45.0        0                      2060         1                 60   \n",
       "297  45.0        0                      2413         0                 38   \n",
       "298  50.0        0                       196         0                 45   \n",
       "\n",
       "     high_blood_pressure  platelets  serum_creatinine  serum_sodium  sex  \\\n",
       "0                      1  265000.00               1.9           130    1   \n",
       "1                      0  263358.03               1.1           136    1   \n",
       "2                      0  162000.00               1.3           129    1   \n",
       "3                      0  210000.00               1.9           137    1   \n",
       "4                      0  327000.00               2.7           116    0   \n",
       "..                   ...        ...               ...           ...  ...   \n",
       "294                    1  155000.00               1.1           143    1   \n",
       "295                    0  270000.00               1.2           139    0   \n",
       "296                    0  742000.00               0.8           138    0   \n",
       "297                    0  140000.00               1.4           140    1   \n",
       "298                    0  395000.00               1.6           136    1   \n",
       "\n",
       "     smoking  time  DEATH_EVENT  \n",
       "0          0     4            1  \n",
       "1          0     6            1  \n",
       "2          1     7            1  \n",
       "3          0     7            1  \n",
       "4          0     8            1  \n",
       "..       ...   ...          ...  \n",
       "294        1   270            0  \n",
       "295        0   271            0  \n",
       "296        0   278            0  \n",
       "297        1   280            0  \n",
       "298        1   285            0  \n",
       "\n",
       "[299 rows x 13 columns]"
      ]
     },
     "execution_count": 3,
     "metadata": {},
     "output_type": "execute_result"
    }
   ],
   "source": [
    "df"
   ]
  },
  {
   "cell_type": "code",
   "execution_count": 4,
   "id": "dbdda7f6",
   "metadata": {
    "execution": {
     "iopub.execute_input": "2021-11-08T19:36:28.729843Z",
     "iopub.status.busy": "2021-11-08T19:36:28.729116Z",
     "iopub.status.idle": "2021-11-08T19:36:28.741613Z",
     "shell.execute_reply": "2021-11-08T19:36:28.740849Z",
     "shell.execute_reply.started": "2021-11-08T19:20:36.055245Z"
    },
    "papermill": {
     "duration": 0.064326,
     "end_time": "2021-11-08T19:36:28.741773",
     "exception": false,
     "start_time": "2021-11-08T19:36:28.677447",
     "status": "completed"
    },
    "tags": []
   },
   "outputs": [
    {
     "name": "stdout",
     "output_type": "stream",
     "text": [
      "<class 'pandas.core.frame.DataFrame'>\n",
      "RangeIndex: 299 entries, 0 to 298\n",
      "Data columns (total 13 columns):\n",
      " #   Column                    Non-Null Count  Dtype  \n",
      "---  ------                    --------------  -----  \n",
      " 0   age                       299 non-null    float64\n",
      " 1   anaemia                   299 non-null    int64  \n",
      " 2   creatinine_phosphokinase  299 non-null    int64  \n",
      " 3   diabetes                  299 non-null    int64  \n",
      " 4   ejection_fraction         299 non-null    int64  \n",
      " 5   high_blood_pressure       299 non-null    int64  \n",
      " 6   platelets                 299 non-null    float64\n",
      " 7   serum_creatinine          299 non-null    float64\n",
      " 8   serum_sodium              299 non-null    int64  \n",
      " 9   sex                       299 non-null    int64  \n",
      " 10  smoking                   299 non-null    int64  \n",
      " 11  time                      299 non-null    int64  \n",
      " 12  DEATH_EVENT               299 non-null    int64  \n",
      "dtypes: float64(3), int64(10)\n",
      "memory usage: 30.5 KB\n"
     ]
    }
   ],
   "source": [
    "df.info()"
   ]
  },
  {
   "cell_type": "code",
   "execution_count": 5,
   "id": "ed9cf1b0",
   "metadata": {
    "execution": {
     "iopub.execute_input": "2021-11-08T19:36:28.829094Z",
     "iopub.status.busy": "2021-11-08T19:36:28.824424Z",
     "iopub.status.idle": "2021-11-08T19:36:28.878503Z",
     "shell.execute_reply": "2021-11-08T19:36:28.879154Z",
     "shell.execute_reply.started": "2021-11-08T19:20:36.078469Z"
    },
    "papermill": {
     "duration": 0.097874,
     "end_time": "2021-11-08T19:36:28.879363",
     "exception": false,
     "start_time": "2021-11-08T19:36:28.781489",
     "status": "completed"
    },
    "tags": []
   },
   "outputs": [
    {
     "data": {
      "text/html": [
       "<div>\n",
       "<style scoped>\n",
       "    .dataframe tbody tr th:only-of-type {\n",
       "        vertical-align: middle;\n",
       "    }\n",
       "\n",
       "    .dataframe tbody tr th {\n",
       "        vertical-align: top;\n",
       "    }\n",
       "\n",
       "    .dataframe thead th {\n",
       "        text-align: right;\n",
       "    }\n",
       "</style>\n",
       "<table border=\"1\" class=\"dataframe\">\n",
       "  <thead>\n",
       "    <tr style=\"text-align: right;\">\n",
       "      <th></th>\n",
       "      <th>age</th>\n",
       "      <th>anaemia</th>\n",
       "      <th>creatinine_phosphokinase</th>\n",
       "      <th>diabetes</th>\n",
       "      <th>ejection_fraction</th>\n",
       "      <th>high_blood_pressure</th>\n",
       "      <th>platelets</th>\n",
       "      <th>serum_creatinine</th>\n",
       "      <th>serum_sodium</th>\n",
       "      <th>sex</th>\n",
       "      <th>smoking</th>\n",
       "      <th>time</th>\n",
       "      <th>DEATH_EVENT</th>\n",
       "    </tr>\n",
       "  </thead>\n",
       "  <tbody>\n",
       "    <tr>\n",
       "      <th>count</th>\n",
       "      <td>299.000000</td>\n",
       "      <td>299.000000</td>\n",
       "      <td>299.000000</td>\n",
       "      <td>299.000000</td>\n",
       "      <td>299.000000</td>\n",
       "      <td>299.000000</td>\n",
       "      <td>299.000000</td>\n",
       "      <td>299.00000</td>\n",
       "      <td>299.000000</td>\n",
       "      <td>299.000000</td>\n",
       "      <td>299.00000</td>\n",
       "      <td>299.000000</td>\n",
       "      <td>299.00000</td>\n",
       "    </tr>\n",
       "    <tr>\n",
       "      <th>mean</th>\n",
       "      <td>60.833893</td>\n",
       "      <td>0.431438</td>\n",
       "      <td>581.839465</td>\n",
       "      <td>0.418060</td>\n",
       "      <td>38.083612</td>\n",
       "      <td>0.351171</td>\n",
       "      <td>263358.029264</td>\n",
       "      <td>1.39388</td>\n",
       "      <td>136.625418</td>\n",
       "      <td>0.648829</td>\n",
       "      <td>0.32107</td>\n",
       "      <td>130.260870</td>\n",
       "      <td>0.32107</td>\n",
       "    </tr>\n",
       "    <tr>\n",
       "      <th>std</th>\n",
       "      <td>11.894809</td>\n",
       "      <td>0.496107</td>\n",
       "      <td>970.287881</td>\n",
       "      <td>0.494067</td>\n",
       "      <td>11.834841</td>\n",
       "      <td>0.478136</td>\n",
       "      <td>97804.236869</td>\n",
       "      <td>1.03451</td>\n",
       "      <td>4.412477</td>\n",
       "      <td>0.478136</td>\n",
       "      <td>0.46767</td>\n",
       "      <td>77.614208</td>\n",
       "      <td>0.46767</td>\n",
       "    </tr>\n",
       "    <tr>\n",
       "      <th>min</th>\n",
       "      <td>40.000000</td>\n",
       "      <td>0.000000</td>\n",
       "      <td>23.000000</td>\n",
       "      <td>0.000000</td>\n",
       "      <td>14.000000</td>\n",
       "      <td>0.000000</td>\n",
       "      <td>25100.000000</td>\n",
       "      <td>0.50000</td>\n",
       "      <td>113.000000</td>\n",
       "      <td>0.000000</td>\n",
       "      <td>0.00000</td>\n",
       "      <td>4.000000</td>\n",
       "      <td>0.00000</td>\n",
       "    </tr>\n",
       "    <tr>\n",
       "      <th>25%</th>\n",
       "      <td>51.000000</td>\n",
       "      <td>0.000000</td>\n",
       "      <td>116.500000</td>\n",
       "      <td>0.000000</td>\n",
       "      <td>30.000000</td>\n",
       "      <td>0.000000</td>\n",
       "      <td>212500.000000</td>\n",
       "      <td>0.90000</td>\n",
       "      <td>134.000000</td>\n",
       "      <td>0.000000</td>\n",
       "      <td>0.00000</td>\n",
       "      <td>73.000000</td>\n",
       "      <td>0.00000</td>\n",
       "    </tr>\n",
       "    <tr>\n",
       "      <th>50%</th>\n",
       "      <td>60.000000</td>\n",
       "      <td>0.000000</td>\n",
       "      <td>250.000000</td>\n",
       "      <td>0.000000</td>\n",
       "      <td>38.000000</td>\n",
       "      <td>0.000000</td>\n",
       "      <td>262000.000000</td>\n",
       "      <td>1.10000</td>\n",
       "      <td>137.000000</td>\n",
       "      <td>1.000000</td>\n",
       "      <td>0.00000</td>\n",
       "      <td>115.000000</td>\n",
       "      <td>0.00000</td>\n",
       "    </tr>\n",
       "    <tr>\n",
       "      <th>75%</th>\n",
       "      <td>70.000000</td>\n",
       "      <td>1.000000</td>\n",
       "      <td>582.000000</td>\n",
       "      <td>1.000000</td>\n",
       "      <td>45.000000</td>\n",
       "      <td>1.000000</td>\n",
       "      <td>303500.000000</td>\n",
       "      <td>1.40000</td>\n",
       "      <td>140.000000</td>\n",
       "      <td>1.000000</td>\n",
       "      <td>1.00000</td>\n",
       "      <td>203.000000</td>\n",
       "      <td>1.00000</td>\n",
       "    </tr>\n",
       "    <tr>\n",
       "      <th>max</th>\n",
       "      <td>95.000000</td>\n",
       "      <td>1.000000</td>\n",
       "      <td>7861.000000</td>\n",
       "      <td>1.000000</td>\n",
       "      <td>80.000000</td>\n",
       "      <td>1.000000</td>\n",
       "      <td>850000.000000</td>\n",
       "      <td>9.40000</td>\n",
       "      <td>148.000000</td>\n",
       "      <td>1.000000</td>\n",
       "      <td>1.00000</td>\n",
       "      <td>285.000000</td>\n",
       "      <td>1.00000</td>\n",
       "    </tr>\n",
       "  </tbody>\n",
       "</table>\n",
       "</div>"
      ],
      "text/plain": [
       "              age     anaemia  creatinine_phosphokinase    diabetes  \\\n",
       "count  299.000000  299.000000                299.000000  299.000000   \n",
       "mean    60.833893    0.431438                581.839465    0.418060   \n",
       "std     11.894809    0.496107                970.287881    0.494067   \n",
       "min     40.000000    0.000000                 23.000000    0.000000   \n",
       "25%     51.000000    0.000000                116.500000    0.000000   \n",
       "50%     60.000000    0.000000                250.000000    0.000000   \n",
       "75%     70.000000    1.000000                582.000000    1.000000   \n",
       "max     95.000000    1.000000               7861.000000    1.000000   \n",
       "\n",
       "       ejection_fraction  high_blood_pressure      platelets  \\\n",
       "count         299.000000           299.000000     299.000000   \n",
       "mean           38.083612             0.351171  263358.029264   \n",
       "std            11.834841             0.478136   97804.236869   \n",
       "min            14.000000             0.000000   25100.000000   \n",
       "25%            30.000000             0.000000  212500.000000   \n",
       "50%            38.000000             0.000000  262000.000000   \n",
       "75%            45.000000             1.000000  303500.000000   \n",
       "max            80.000000             1.000000  850000.000000   \n",
       "\n",
       "       serum_creatinine  serum_sodium         sex    smoking        time  \\\n",
       "count         299.00000    299.000000  299.000000  299.00000  299.000000   \n",
       "mean            1.39388    136.625418    0.648829    0.32107  130.260870   \n",
       "std             1.03451      4.412477    0.478136    0.46767   77.614208   \n",
       "min             0.50000    113.000000    0.000000    0.00000    4.000000   \n",
       "25%             0.90000    134.000000    0.000000    0.00000   73.000000   \n",
       "50%             1.10000    137.000000    1.000000    0.00000  115.000000   \n",
       "75%             1.40000    140.000000    1.000000    1.00000  203.000000   \n",
       "max             9.40000    148.000000    1.000000    1.00000  285.000000   \n",
       "\n",
       "       DEATH_EVENT  \n",
       "count    299.00000  \n",
       "mean       0.32107  \n",
       "std        0.46767  \n",
       "min        0.00000  \n",
       "25%        0.00000  \n",
       "50%        0.00000  \n",
       "75%        1.00000  \n",
       "max        1.00000  "
      ]
     },
     "execution_count": 5,
     "metadata": {},
     "output_type": "execute_result"
    }
   ],
   "source": [
    "df.describe()"
   ]
  },
  {
   "cell_type": "code",
   "execution_count": 6,
   "id": "fd9248d9",
   "metadata": {
    "execution": {
     "iopub.execute_input": "2021-11-08T19:36:28.964577Z",
     "iopub.status.busy": "2021-11-08T19:36:28.963575Z",
     "iopub.status.idle": "2021-11-08T19:36:28.989814Z",
     "shell.execute_reply": "2021-11-08T19:36:28.990432Z",
     "shell.execute_reply.started": "2021-11-08T19:20:36.138192Z"
    },
    "papermill": {
     "duration": 0.070628,
     "end_time": "2021-11-08T19:36:28.990621",
     "exception": false,
     "start_time": "2021-11-08T19:36:28.919993",
     "status": "completed"
    },
    "tags": []
   },
   "outputs": [
    {
     "data": {
      "text/html": [
       "<div>\n",
       "<style scoped>\n",
       "    .dataframe tbody tr th:only-of-type {\n",
       "        vertical-align: middle;\n",
       "    }\n",
       "\n",
       "    .dataframe tbody tr th {\n",
       "        vertical-align: top;\n",
       "    }\n",
       "\n",
       "    .dataframe thead th {\n",
       "        text-align: right;\n",
       "    }\n",
       "</style>\n",
       "<table border=\"1\" class=\"dataframe\">\n",
       "  <thead>\n",
       "    <tr style=\"text-align: right;\">\n",
       "      <th></th>\n",
       "      <th>age</th>\n",
       "      <th>anaemia</th>\n",
       "      <th>creatinine_phosphokinase</th>\n",
       "      <th>diabetes</th>\n",
       "      <th>ejection_fraction</th>\n",
       "      <th>high_blood_pressure</th>\n",
       "      <th>platelets</th>\n",
       "      <th>serum_creatinine</th>\n",
       "      <th>serum_sodium</th>\n",
       "      <th>sex</th>\n",
       "      <th>smoking</th>\n",
       "      <th>time</th>\n",
       "      <th>DEATH_EVENT</th>\n",
       "    </tr>\n",
       "  </thead>\n",
       "  <tbody>\n",
       "    <tr>\n",
       "      <th>0</th>\n",
       "      <td>75.0</td>\n",
       "      <td>0</td>\n",
       "      <td>582</td>\n",
       "      <td>0</td>\n",
       "      <td>20</td>\n",
       "      <td>1</td>\n",
       "      <td>265000.00</td>\n",
       "      <td>1.9</td>\n",
       "      <td>130</td>\n",
       "      <td>1</td>\n",
       "      <td>0</td>\n",
       "      <td>4</td>\n",
       "      <td>1</td>\n",
       "    </tr>\n",
       "    <tr>\n",
       "      <th>1</th>\n",
       "      <td>55.0</td>\n",
       "      <td>0</td>\n",
       "      <td>7861</td>\n",
       "      <td>0</td>\n",
       "      <td>38</td>\n",
       "      <td>0</td>\n",
       "      <td>263358.03</td>\n",
       "      <td>1.1</td>\n",
       "      <td>136</td>\n",
       "      <td>1</td>\n",
       "      <td>0</td>\n",
       "      <td>6</td>\n",
       "      <td>1</td>\n",
       "    </tr>\n",
       "    <tr>\n",
       "      <th>2</th>\n",
       "      <td>65.0</td>\n",
       "      <td>0</td>\n",
       "      <td>146</td>\n",
       "      <td>0</td>\n",
       "      <td>20</td>\n",
       "      <td>0</td>\n",
       "      <td>162000.00</td>\n",
       "      <td>1.3</td>\n",
       "      <td>129</td>\n",
       "      <td>1</td>\n",
       "      <td>1</td>\n",
       "      <td>7</td>\n",
       "      <td>1</td>\n",
       "    </tr>\n",
       "    <tr>\n",
       "      <th>3</th>\n",
       "      <td>50.0</td>\n",
       "      <td>1</td>\n",
       "      <td>111</td>\n",
       "      <td>0</td>\n",
       "      <td>20</td>\n",
       "      <td>0</td>\n",
       "      <td>210000.00</td>\n",
       "      <td>1.9</td>\n",
       "      <td>137</td>\n",
       "      <td>1</td>\n",
       "      <td>0</td>\n",
       "      <td>7</td>\n",
       "      <td>1</td>\n",
       "    </tr>\n",
       "    <tr>\n",
       "      <th>4</th>\n",
       "      <td>65.0</td>\n",
       "      <td>1</td>\n",
       "      <td>160</td>\n",
       "      <td>1</td>\n",
       "      <td>20</td>\n",
       "      <td>0</td>\n",
       "      <td>327000.00</td>\n",
       "      <td>2.7</td>\n",
       "      <td>116</td>\n",
       "      <td>0</td>\n",
       "      <td>0</td>\n",
       "      <td>8</td>\n",
       "      <td>1</td>\n",
       "    </tr>\n",
       "    <tr>\n",
       "      <th>...</th>\n",
       "      <td>...</td>\n",
       "      <td>...</td>\n",
       "      <td>...</td>\n",
       "      <td>...</td>\n",
       "      <td>...</td>\n",
       "      <td>...</td>\n",
       "      <td>...</td>\n",
       "      <td>...</td>\n",
       "      <td>...</td>\n",
       "      <td>...</td>\n",
       "      <td>...</td>\n",
       "      <td>...</td>\n",
       "      <td>...</td>\n",
       "    </tr>\n",
       "    <tr>\n",
       "      <th>294</th>\n",
       "      <td>62.0</td>\n",
       "      <td>0</td>\n",
       "      <td>61</td>\n",
       "      <td>1</td>\n",
       "      <td>38</td>\n",
       "      <td>1</td>\n",
       "      <td>155000.00</td>\n",
       "      <td>1.1</td>\n",
       "      <td>143</td>\n",
       "      <td>1</td>\n",
       "      <td>1</td>\n",
       "      <td>270</td>\n",
       "      <td>0</td>\n",
       "    </tr>\n",
       "    <tr>\n",
       "      <th>295</th>\n",
       "      <td>55.0</td>\n",
       "      <td>0</td>\n",
       "      <td>1820</td>\n",
       "      <td>0</td>\n",
       "      <td>38</td>\n",
       "      <td>0</td>\n",
       "      <td>270000.00</td>\n",
       "      <td>1.2</td>\n",
       "      <td>139</td>\n",
       "      <td>0</td>\n",
       "      <td>0</td>\n",
       "      <td>271</td>\n",
       "      <td>0</td>\n",
       "    </tr>\n",
       "    <tr>\n",
       "      <th>296</th>\n",
       "      <td>45.0</td>\n",
       "      <td>0</td>\n",
       "      <td>2060</td>\n",
       "      <td>1</td>\n",
       "      <td>60</td>\n",
       "      <td>0</td>\n",
       "      <td>742000.00</td>\n",
       "      <td>0.8</td>\n",
       "      <td>138</td>\n",
       "      <td>0</td>\n",
       "      <td>0</td>\n",
       "      <td>278</td>\n",
       "      <td>0</td>\n",
       "    </tr>\n",
       "    <tr>\n",
       "      <th>297</th>\n",
       "      <td>45.0</td>\n",
       "      <td>0</td>\n",
       "      <td>2413</td>\n",
       "      <td>0</td>\n",
       "      <td>38</td>\n",
       "      <td>0</td>\n",
       "      <td>140000.00</td>\n",
       "      <td>1.4</td>\n",
       "      <td>140</td>\n",
       "      <td>1</td>\n",
       "      <td>1</td>\n",
       "      <td>280</td>\n",
       "      <td>0</td>\n",
       "    </tr>\n",
       "    <tr>\n",
       "      <th>298</th>\n",
       "      <td>50.0</td>\n",
       "      <td>0</td>\n",
       "      <td>196</td>\n",
       "      <td>0</td>\n",
       "      <td>45</td>\n",
       "      <td>0</td>\n",
       "      <td>395000.00</td>\n",
       "      <td>1.6</td>\n",
       "      <td>136</td>\n",
       "      <td>1</td>\n",
       "      <td>1</td>\n",
       "      <td>285</td>\n",
       "      <td>0</td>\n",
       "    </tr>\n",
       "  </tbody>\n",
       "</table>\n",
       "<p>299 rows × 13 columns</p>\n",
       "</div>"
      ],
      "text/plain": [
       "      age  anaemia  creatinine_phosphokinase  diabetes  ejection_fraction  \\\n",
       "0    75.0        0                       582         0                 20   \n",
       "1    55.0        0                      7861         0                 38   \n",
       "2    65.0        0                       146         0                 20   \n",
       "3    50.0        1                       111         0                 20   \n",
       "4    65.0        1                       160         1                 20   \n",
       "..    ...      ...                       ...       ...                ...   \n",
       "294  62.0        0                        61         1                 38   \n",
       "295  55.0        0                      1820         0                 38   \n",
       "296  45.0        0                      2060         1                 60   \n",
       "297  45.0        0                      2413         0                 38   \n",
       "298  50.0        0                       196         0                 45   \n",
       "\n",
       "     high_blood_pressure  platelets  serum_creatinine  serum_sodium  sex  \\\n",
       "0                      1  265000.00               1.9           130    1   \n",
       "1                      0  263358.03               1.1           136    1   \n",
       "2                      0  162000.00               1.3           129    1   \n",
       "3                      0  210000.00               1.9           137    1   \n",
       "4                      0  327000.00               2.7           116    0   \n",
       "..                   ...        ...               ...           ...  ...   \n",
       "294                    1  155000.00               1.1           143    1   \n",
       "295                    0  270000.00               1.2           139    0   \n",
       "296                    0  742000.00               0.8           138    0   \n",
       "297                    0  140000.00               1.4           140    1   \n",
       "298                    0  395000.00               1.6           136    1   \n",
       "\n",
       "     smoking  time  DEATH_EVENT  \n",
       "0          0     4            1  \n",
       "1          0     6            1  \n",
       "2          1     7            1  \n",
       "3          0     7            1  \n",
       "4          0     8            1  \n",
       "..       ...   ...          ...  \n",
       "294        1   270            0  \n",
       "295        0   271            0  \n",
       "296        0   278            0  \n",
       "297        1   280            0  \n",
       "298        1   285            0  \n",
       "\n",
       "[299 rows x 13 columns]"
      ]
     },
     "execution_count": 6,
     "metadata": {},
     "output_type": "execute_result"
    }
   ],
   "source": [
    "# Data looks cleans with no duplicates\n",
    "df.drop_duplicates()"
   ]
  },
  {
   "cell_type": "code",
   "execution_count": 7,
   "id": "c65b9785",
   "metadata": {
    "execution": {
     "iopub.execute_input": "2021-11-08T19:36:29.078016Z",
     "iopub.status.busy": "2021-11-08T19:36:29.076889Z",
     "iopub.status.idle": "2021-11-08T19:36:29.082196Z",
     "shell.execute_reply": "2021-11-08T19:36:29.082870Z",
     "shell.execute_reply.started": "2021-11-08T19:20:36.165259Z"
    },
    "papermill": {
     "duration": 0.051558,
     "end_time": "2021-11-08T19:36:29.083050",
     "exception": false,
     "start_time": "2021-11-08T19:36:29.031492",
     "status": "completed"
    },
    "tags": []
   },
   "outputs": [
    {
     "data": {
      "text/plain": [
       "0"
      ]
     },
     "execution_count": 7,
     "metadata": {},
     "output_type": "execute_result"
    }
   ],
   "source": [
    "df.isnull().sum().max()"
   ]
  },
  {
   "cell_type": "code",
   "execution_count": 8,
   "id": "4de0f44a",
   "metadata": {
    "execution": {
     "iopub.execute_input": "2021-11-08T19:36:29.169511Z",
     "iopub.status.busy": "2021-11-08T19:36:29.168805Z",
     "iopub.status.idle": "2021-11-08T19:36:29.194788Z",
     "shell.execute_reply": "2021-11-08T19:36:29.195421Z",
     "shell.execute_reply.started": "2021-11-08T19:20:36.174987Z"
    },
    "papermill": {
     "duration": 0.071018,
     "end_time": "2021-11-08T19:36:29.195613",
     "exception": false,
     "start_time": "2021-11-08T19:36:29.124595",
     "status": "completed"
    },
    "tags": []
   },
   "outputs": [
    {
     "data": {
      "text/html": [
       "<div>\n",
       "<style scoped>\n",
       "    .dataframe tbody tr th:only-of-type {\n",
       "        vertical-align: middle;\n",
       "    }\n",
       "\n",
       "    .dataframe tbody tr th {\n",
       "        vertical-align: top;\n",
       "    }\n",
       "\n",
       "    .dataframe thead th {\n",
       "        text-align: right;\n",
       "    }\n",
       "</style>\n",
       "<table border=\"1\" class=\"dataframe\">\n",
       "  <thead>\n",
       "    <tr style=\"text-align: right;\">\n",
       "      <th></th>\n",
       "      <th>age</th>\n",
       "      <th>anaemia</th>\n",
       "      <th>creatinine_phosphokinase</th>\n",
       "      <th>diabetes</th>\n",
       "      <th>ejection_fraction</th>\n",
       "      <th>high_blood_pressure</th>\n",
       "      <th>platelets</th>\n",
       "      <th>serum_creatinine</th>\n",
       "      <th>serum_sodium</th>\n",
       "      <th>sex</th>\n",
       "      <th>smoking</th>\n",
       "      <th>time</th>\n",
       "      <th>DEATH_EVENT</th>\n",
       "    </tr>\n",
       "  </thead>\n",
       "  <tbody>\n",
       "    <tr>\n",
       "      <th>age</th>\n",
       "      <td>1.000000</td>\n",
       "      <td>0.088006</td>\n",
       "      <td>-0.081584</td>\n",
       "      <td>-0.101012</td>\n",
       "      <td>0.060098</td>\n",
       "      <td>0.093289</td>\n",
       "      <td>-0.052354</td>\n",
       "      <td>0.159187</td>\n",
       "      <td>-0.045966</td>\n",
       "      <td>0.065430</td>\n",
       "      <td>0.018668</td>\n",
       "      <td>-0.224068</td>\n",
       "      <td>0.253729</td>\n",
       "    </tr>\n",
       "    <tr>\n",
       "      <th>anaemia</th>\n",
       "      <td>0.088006</td>\n",
       "      <td>1.000000</td>\n",
       "      <td>-0.190741</td>\n",
       "      <td>-0.012729</td>\n",
       "      <td>0.031557</td>\n",
       "      <td>0.038182</td>\n",
       "      <td>-0.043786</td>\n",
       "      <td>0.052174</td>\n",
       "      <td>0.041882</td>\n",
       "      <td>-0.094769</td>\n",
       "      <td>-0.107290</td>\n",
       "      <td>-0.141414</td>\n",
       "      <td>0.066270</td>\n",
       "    </tr>\n",
       "    <tr>\n",
       "      <th>creatinine_phosphokinase</th>\n",
       "      <td>-0.081584</td>\n",
       "      <td>-0.190741</td>\n",
       "      <td>1.000000</td>\n",
       "      <td>-0.009639</td>\n",
       "      <td>-0.044080</td>\n",
       "      <td>-0.070590</td>\n",
       "      <td>0.024463</td>\n",
       "      <td>-0.016408</td>\n",
       "      <td>0.059550</td>\n",
       "      <td>0.079791</td>\n",
       "      <td>0.002421</td>\n",
       "      <td>-0.009346</td>\n",
       "      <td>0.062728</td>\n",
       "    </tr>\n",
       "    <tr>\n",
       "      <th>diabetes</th>\n",
       "      <td>-0.101012</td>\n",
       "      <td>-0.012729</td>\n",
       "      <td>-0.009639</td>\n",
       "      <td>1.000000</td>\n",
       "      <td>-0.004850</td>\n",
       "      <td>-0.012732</td>\n",
       "      <td>0.092193</td>\n",
       "      <td>-0.046975</td>\n",
       "      <td>-0.089551</td>\n",
       "      <td>-0.157730</td>\n",
       "      <td>-0.147173</td>\n",
       "      <td>0.033726</td>\n",
       "      <td>-0.001943</td>\n",
       "    </tr>\n",
       "    <tr>\n",
       "      <th>ejection_fraction</th>\n",
       "      <td>0.060098</td>\n",
       "      <td>0.031557</td>\n",
       "      <td>-0.044080</td>\n",
       "      <td>-0.004850</td>\n",
       "      <td>1.000000</td>\n",
       "      <td>0.024445</td>\n",
       "      <td>0.072177</td>\n",
       "      <td>-0.011302</td>\n",
       "      <td>0.175902</td>\n",
       "      <td>-0.148386</td>\n",
       "      <td>-0.067315</td>\n",
       "      <td>0.041729</td>\n",
       "      <td>-0.268603</td>\n",
       "    </tr>\n",
       "    <tr>\n",
       "      <th>high_blood_pressure</th>\n",
       "      <td>0.093289</td>\n",
       "      <td>0.038182</td>\n",
       "      <td>-0.070590</td>\n",
       "      <td>-0.012732</td>\n",
       "      <td>0.024445</td>\n",
       "      <td>1.000000</td>\n",
       "      <td>0.049963</td>\n",
       "      <td>-0.004935</td>\n",
       "      <td>0.037109</td>\n",
       "      <td>-0.104615</td>\n",
       "      <td>-0.055711</td>\n",
       "      <td>-0.196439</td>\n",
       "      <td>0.079351</td>\n",
       "    </tr>\n",
       "    <tr>\n",
       "      <th>platelets</th>\n",
       "      <td>-0.052354</td>\n",
       "      <td>-0.043786</td>\n",
       "      <td>0.024463</td>\n",
       "      <td>0.092193</td>\n",
       "      <td>0.072177</td>\n",
       "      <td>0.049963</td>\n",
       "      <td>1.000000</td>\n",
       "      <td>-0.041198</td>\n",
       "      <td>0.062125</td>\n",
       "      <td>-0.125120</td>\n",
       "      <td>0.028234</td>\n",
       "      <td>0.010514</td>\n",
       "      <td>-0.049139</td>\n",
       "    </tr>\n",
       "    <tr>\n",
       "      <th>serum_creatinine</th>\n",
       "      <td>0.159187</td>\n",
       "      <td>0.052174</td>\n",
       "      <td>-0.016408</td>\n",
       "      <td>-0.046975</td>\n",
       "      <td>-0.011302</td>\n",
       "      <td>-0.004935</td>\n",
       "      <td>-0.041198</td>\n",
       "      <td>1.000000</td>\n",
       "      <td>-0.189095</td>\n",
       "      <td>0.006970</td>\n",
       "      <td>-0.027414</td>\n",
       "      <td>-0.149315</td>\n",
       "      <td>0.294278</td>\n",
       "    </tr>\n",
       "    <tr>\n",
       "      <th>serum_sodium</th>\n",
       "      <td>-0.045966</td>\n",
       "      <td>0.041882</td>\n",
       "      <td>0.059550</td>\n",
       "      <td>-0.089551</td>\n",
       "      <td>0.175902</td>\n",
       "      <td>0.037109</td>\n",
       "      <td>0.062125</td>\n",
       "      <td>-0.189095</td>\n",
       "      <td>1.000000</td>\n",
       "      <td>-0.027566</td>\n",
       "      <td>0.004813</td>\n",
       "      <td>0.087640</td>\n",
       "      <td>-0.195204</td>\n",
       "    </tr>\n",
       "    <tr>\n",
       "      <th>sex</th>\n",
       "      <td>0.065430</td>\n",
       "      <td>-0.094769</td>\n",
       "      <td>0.079791</td>\n",
       "      <td>-0.157730</td>\n",
       "      <td>-0.148386</td>\n",
       "      <td>-0.104615</td>\n",
       "      <td>-0.125120</td>\n",
       "      <td>0.006970</td>\n",
       "      <td>-0.027566</td>\n",
       "      <td>1.000000</td>\n",
       "      <td>0.445892</td>\n",
       "      <td>-0.015608</td>\n",
       "      <td>-0.004316</td>\n",
       "    </tr>\n",
       "    <tr>\n",
       "      <th>smoking</th>\n",
       "      <td>0.018668</td>\n",
       "      <td>-0.107290</td>\n",
       "      <td>0.002421</td>\n",
       "      <td>-0.147173</td>\n",
       "      <td>-0.067315</td>\n",
       "      <td>-0.055711</td>\n",
       "      <td>0.028234</td>\n",
       "      <td>-0.027414</td>\n",
       "      <td>0.004813</td>\n",
       "      <td>0.445892</td>\n",
       "      <td>1.000000</td>\n",
       "      <td>-0.022839</td>\n",
       "      <td>-0.012623</td>\n",
       "    </tr>\n",
       "    <tr>\n",
       "      <th>time</th>\n",
       "      <td>-0.224068</td>\n",
       "      <td>-0.141414</td>\n",
       "      <td>-0.009346</td>\n",
       "      <td>0.033726</td>\n",
       "      <td>0.041729</td>\n",
       "      <td>-0.196439</td>\n",
       "      <td>0.010514</td>\n",
       "      <td>-0.149315</td>\n",
       "      <td>0.087640</td>\n",
       "      <td>-0.015608</td>\n",
       "      <td>-0.022839</td>\n",
       "      <td>1.000000</td>\n",
       "      <td>-0.526964</td>\n",
       "    </tr>\n",
       "    <tr>\n",
       "      <th>DEATH_EVENT</th>\n",
       "      <td>0.253729</td>\n",
       "      <td>0.066270</td>\n",
       "      <td>0.062728</td>\n",
       "      <td>-0.001943</td>\n",
       "      <td>-0.268603</td>\n",
       "      <td>0.079351</td>\n",
       "      <td>-0.049139</td>\n",
       "      <td>0.294278</td>\n",
       "      <td>-0.195204</td>\n",
       "      <td>-0.004316</td>\n",
       "      <td>-0.012623</td>\n",
       "      <td>-0.526964</td>\n",
       "      <td>1.000000</td>\n",
       "    </tr>\n",
       "  </tbody>\n",
       "</table>\n",
       "</div>"
      ],
      "text/plain": [
       "                               age   anaemia  creatinine_phosphokinase  \\\n",
       "age                       1.000000  0.088006                 -0.081584   \n",
       "anaemia                   0.088006  1.000000                 -0.190741   \n",
       "creatinine_phosphokinase -0.081584 -0.190741                  1.000000   \n",
       "diabetes                 -0.101012 -0.012729                 -0.009639   \n",
       "ejection_fraction         0.060098  0.031557                 -0.044080   \n",
       "high_blood_pressure       0.093289  0.038182                 -0.070590   \n",
       "platelets                -0.052354 -0.043786                  0.024463   \n",
       "serum_creatinine          0.159187  0.052174                 -0.016408   \n",
       "serum_sodium             -0.045966  0.041882                  0.059550   \n",
       "sex                       0.065430 -0.094769                  0.079791   \n",
       "smoking                   0.018668 -0.107290                  0.002421   \n",
       "time                     -0.224068 -0.141414                 -0.009346   \n",
       "DEATH_EVENT               0.253729  0.066270                  0.062728   \n",
       "\n",
       "                          diabetes  ejection_fraction  high_blood_pressure  \\\n",
       "age                      -0.101012           0.060098             0.093289   \n",
       "anaemia                  -0.012729           0.031557             0.038182   \n",
       "creatinine_phosphokinase -0.009639          -0.044080            -0.070590   \n",
       "diabetes                  1.000000          -0.004850            -0.012732   \n",
       "ejection_fraction        -0.004850           1.000000             0.024445   \n",
       "high_blood_pressure      -0.012732           0.024445             1.000000   \n",
       "platelets                 0.092193           0.072177             0.049963   \n",
       "serum_creatinine         -0.046975          -0.011302            -0.004935   \n",
       "serum_sodium             -0.089551           0.175902             0.037109   \n",
       "sex                      -0.157730          -0.148386            -0.104615   \n",
       "smoking                  -0.147173          -0.067315            -0.055711   \n",
       "time                      0.033726           0.041729            -0.196439   \n",
       "DEATH_EVENT              -0.001943          -0.268603             0.079351   \n",
       "\n",
       "                          platelets  serum_creatinine  serum_sodium       sex  \\\n",
       "age                       -0.052354          0.159187     -0.045966  0.065430   \n",
       "anaemia                   -0.043786          0.052174      0.041882 -0.094769   \n",
       "creatinine_phosphokinase   0.024463         -0.016408      0.059550  0.079791   \n",
       "diabetes                   0.092193         -0.046975     -0.089551 -0.157730   \n",
       "ejection_fraction          0.072177         -0.011302      0.175902 -0.148386   \n",
       "high_blood_pressure        0.049963         -0.004935      0.037109 -0.104615   \n",
       "platelets                  1.000000         -0.041198      0.062125 -0.125120   \n",
       "serum_creatinine          -0.041198          1.000000     -0.189095  0.006970   \n",
       "serum_sodium               0.062125         -0.189095      1.000000 -0.027566   \n",
       "sex                       -0.125120          0.006970     -0.027566  1.000000   \n",
       "smoking                    0.028234         -0.027414      0.004813  0.445892   \n",
       "time                       0.010514         -0.149315      0.087640 -0.015608   \n",
       "DEATH_EVENT               -0.049139          0.294278     -0.195204 -0.004316   \n",
       "\n",
       "                           smoking      time  DEATH_EVENT  \n",
       "age                       0.018668 -0.224068     0.253729  \n",
       "anaemia                  -0.107290 -0.141414     0.066270  \n",
       "creatinine_phosphokinase  0.002421 -0.009346     0.062728  \n",
       "diabetes                 -0.147173  0.033726    -0.001943  \n",
       "ejection_fraction        -0.067315  0.041729    -0.268603  \n",
       "high_blood_pressure      -0.055711 -0.196439     0.079351  \n",
       "platelets                 0.028234  0.010514    -0.049139  \n",
       "serum_creatinine         -0.027414 -0.149315     0.294278  \n",
       "serum_sodium              0.004813  0.087640    -0.195204  \n",
       "sex                       0.445892 -0.015608    -0.004316  \n",
       "smoking                   1.000000 -0.022839    -0.012623  \n",
       "time                     -0.022839  1.000000    -0.526964  \n",
       "DEATH_EVENT              -0.012623 -0.526964     1.000000  "
      ]
     },
     "execution_count": 8,
     "metadata": {},
     "output_type": "execute_result"
    }
   ],
   "source": [
    "df.corr()"
   ]
  },
  {
   "cell_type": "code",
   "execution_count": 9,
   "id": "dc935007",
   "metadata": {
    "execution": {
     "iopub.execute_input": "2021-11-08T19:36:29.285468Z",
     "iopub.status.busy": "2021-11-08T19:36:29.284706Z",
     "iopub.status.idle": "2021-11-08T19:36:29.291611Z",
     "shell.execute_reply": "2021-11-08T19:36:29.292258Z",
     "shell.execute_reply.started": "2021-11-08T19:20:36.206800Z"
    },
    "papermill": {
     "duration": 0.054736,
     "end_time": "2021-11-08T19:36:29.292456",
     "exception": false,
     "start_time": "2021-11-08T19:36:29.237720",
     "status": "completed"
    },
    "tags": []
   },
   "outputs": [
    {
     "data": {
      "text/plain": [
       "0    203\n",
       "1     96\n",
       "Name: DEATH_EVENT, dtype: int64"
      ]
     },
     "execution_count": 9,
     "metadata": {},
     "output_type": "execute_result"
    }
   ],
   "source": [
    "df['DEATH_EVENT'].value_counts()"
   ]
  },
  {
   "cell_type": "code",
   "execution_count": 10,
   "id": "8b152667",
   "metadata": {
    "execution": {
     "iopub.execute_input": "2021-11-08T19:36:29.383068Z",
     "iopub.status.busy": "2021-11-08T19:36:29.382410Z",
     "iopub.status.idle": "2021-11-08T19:36:29.950061Z",
     "shell.execute_reply": "2021-11-08T19:36:29.949364Z",
     "shell.execute_reply.started": "2021-11-08T19:20:36.223130Z"
    },
    "papermill": {
     "duration": 0.61354,
     "end_time": "2021-11-08T19:36:29.950235",
     "exception": false,
     "start_time": "2021-11-08T19:36:29.336695",
     "status": "completed"
    },
    "tags": []
   },
   "outputs": [
    {
     "data": {
      "text/plain": [
       "<AxesSubplot:>"
      ]
     },
     "execution_count": 10,
     "metadata": {},
     "output_type": "execute_result"
    },
    {
     "data": {
      "image/png": "[encoded data removed]",
      "text/plain": [
       "<Figure size 432x288 with 2 Axes>"
      ]
     },
     "metadata": {
      "needs_background": "light"
     },
     "output_type": "display_data"
    }
   ],
   "source": [
    "sns.heatmap(df.corr())"
   ]
  },
  {
   "cell_type": "code",
   "execution_count": 11,
   "id": "13b19755",
   "metadata": {
    "execution": {
     "iopub.execute_input": "2021-11-08T19:36:30.123037Z",
     "iopub.status.busy": "2021-11-08T19:36:30.122318Z",
     "iopub.status.idle": "2021-11-08T19:36:31.650831Z",
     "shell.execute_reply": "2021-11-08T19:36:31.651721Z",
     "shell.execute_reply.started": "2021-11-08T19:20:36.675151Z"
    },
    "papermill": {
     "duration": 1.598773,
     "end_time": "2021-11-08T19:36:31.651991",
     "exception": false,
     "start_time": "2021-11-08T19:36:30.053218",
     "status": "completed"
    },
    "tags": []
   },
   "outputs": [
    {
     "data": {
      "image/png": "[encoded data removed]",
      "text/plain": [
       "<Figure size 1152x432 with 2 Axes>"
      ]
     },
     "metadata": {
      "needs_background": "light"
     },
     "output_type": "display_data"
    }
   ],
   "source": [
    "# Strong correlation between smoking and sex\n",
    "\n",
    "plt.figure(figsize=(16, 6))\n",
    "heatmap = sns.heatmap(df.corr(), vmin=-1, vmax=1, annot=True, cmap='BrBG')"
   ]
  },
  {
   "cell_type": "code",
   "execution_count": 12,
   "id": "92cbd373",
   "metadata": {
    "execution": {
     "iopub.execute_input": "2021-11-08T19:36:31.765703Z",
     "iopub.status.busy": "2021-11-08T19:36:31.764949Z",
     "iopub.status.idle": "2021-11-08T19:36:34.500753Z",
     "shell.execute_reply": "2021-11-08T19:36:34.500050Z",
     "shell.execute_reply.started": "2021-11-08T19:20:37.961618Z"
    },
    "papermill": {
     "duration": 2.789558,
     "end_time": "2021-11-08T19:36:34.500937",
     "exception": false,
     "start_time": "2021-11-08T19:36:31.711379",
     "status": "completed"
    },
    "tags": []
   },
   "outputs": [
    {
     "data": {
      "image/png": "[encoded data removed]",
      "text/plain": [
       "<Figure size 936x504 with 15 Axes>"
      ]
     },
     "metadata": {
      "needs_background": "light"
     },
     "output_type": "display_data"
    }
   ],
   "source": [
    "df.hist(figsize=(13,7),bins=20,layout=(5,3))\n",
    "plt.tight_layout()\n",
    "plt.show()"
   ]
  },
  {
   "cell_type": "markdown",
   "id": "bd1c1a2d",
   "metadata": {
    "papermill": {
     "duration": 0.048645,
     "end_time": "2021-11-08T19:36:34.599031",
     "exception": false,
     "start_time": "2021-11-08T19:36:34.550386",
     "status": "completed"
    },
    "tags": []
   },
   "source": [
    "# Train/Test Split"
   ]
  },
  {
   "cell_type": "code",
   "execution_count": 13,
   "id": "cc1d3c20",
   "metadata": {
    "execution": {
     "iopub.execute_input": "2021-11-08T19:36:34.704019Z",
     "iopub.status.busy": "2021-11-08T19:36:34.703341Z",
     "iopub.status.idle": "2021-11-08T19:36:34.710801Z",
     "shell.execute_reply": "2021-11-08T19:36:34.711413Z",
     "shell.execute_reply.started": "2021-11-08T19:20:40.322355Z"
    },
    "papermill": {
     "duration": 0.063787,
     "end_time": "2021-11-08T19:36:34.711665",
     "exception": false,
     "start_time": "2021-11-08T19:36:34.647878",
     "status": "completed"
    },
    "tags": []
   },
   "outputs": [],
   "source": [
    "from sklearn.model_selection import train_test_split\n",
    "\n",
    "X = df.drop('DEATH_EVENT', axis=1)\n",
    "y = df['DEATH_EVENT']\n",
    "\n",
    "X_train, X_test, y_train, y_test = train_test_split(X, y, random_state=42, test_size=0.3)"
   ]
  },
  {
   "cell_type": "code",
   "execution_count": 14,
   "id": "9b8f09f0",
   "metadata": {
    "execution": {
     "iopub.execute_input": "2021-11-08T19:36:34.811122Z",
     "iopub.status.busy": "2021-11-08T19:36:34.810469Z",
     "iopub.status.idle": "2021-11-08T19:36:34.815578Z",
     "shell.execute_reply": "2021-11-08T19:36:34.816252Z",
     "shell.execute_reply.started": "2021-11-08T19:20:40.332670Z"
    },
    "papermill": {
     "duration": 0.056935,
     "end_time": "2021-11-08T19:36:34.816432",
     "exception": false,
     "start_time": "2021-11-08T19:36:34.759497",
     "status": "completed"
    },
    "tags": []
   },
   "outputs": [
    {
     "data": {
      "text/plain": [
       "(209, 12)"
      ]
     },
     "execution_count": 14,
     "metadata": {},
     "output_type": "execute_result"
    }
   ],
   "source": [
    "X_train.shape"
   ]
  },
  {
   "cell_type": "code",
   "execution_count": 15,
   "id": "d94cef3d",
   "metadata": {
    "execution": {
     "iopub.execute_input": "2021-11-08T19:36:34.916332Z",
     "iopub.status.busy": "2021-11-08T19:36:34.915632Z",
     "iopub.status.idle": "2021-11-08T19:36:34.922352Z",
     "shell.execute_reply": "2021-11-08T19:36:34.921591Z",
     "shell.execute_reply.started": "2021-11-08T19:20:40.349085Z"
    },
    "papermill": {
     "duration": 0.057767,
     "end_time": "2021-11-08T19:36:34.922506",
     "exception": false,
     "start_time": "2021-11-08T19:36:34.864739",
     "status": "completed"
    },
    "tags": []
   },
   "outputs": [
    {
     "data": {
      "text/plain": [
       "(209,)"
      ]
     },
     "execution_count": 15,
     "metadata": {},
     "output_type": "execute_result"
    }
   ],
   "source": [
    "y_train.shape"
   ]
  },
  {
   "cell_type": "markdown",
   "id": "0db95f4f",
   "metadata": {
    "papermill": {
     "duration": 0.048891,
     "end_time": "2021-11-08T19:36:35.020295",
     "exception": false,
     "start_time": "2021-11-08T19:36:34.971404",
     "status": "completed"
    },
    "tags": []
   },
   "source": [
    "# Prepare for ML"
   ]
  },
  {
   "cell_type": "code",
   "execution_count": 16,
   "id": "14c9e723",
   "metadata": {
    "execution": {
     "iopub.execute_input": "2021-11-08T19:36:35.120749Z",
     "iopub.status.busy": "2021-11-08T19:36:35.120042Z",
     "iopub.status.idle": "2021-11-08T19:36:35.130183Z",
     "shell.execute_reply": "2021-11-08T19:36:35.130769Z",
     "shell.execute_reply.started": "2021-11-08T19:20:40.362548Z"
    },
    "papermill": {
     "duration": 0.062134,
     "end_time": "2021-11-08T19:36:35.130962",
     "exception": false,
     "start_time": "2021-11-08T19:36:35.068828",
     "status": "completed"
    },
    "tags": []
   },
   "outputs": [],
   "source": [
    "scaler = MinMaxScaler()\n",
    "X_train_scaled = scaler.fit_transform(X_train)\n",
    "X_test_scaled = scaler.transform(X_test)"
   ]
  },
  {
   "cell_type": "code",
   "execution_count": 17,
   "id": "0307ad9e",
   "metadata": {
    "execution": {
     "iopub.execute_input": "2021-11-08T19:36:35.234521Z",
     "iopub.status.busy": "2021-11-08T19:36:35.233793Z",
     "iopub.status.idle": "2021-11-08T19:36:35.240054Z",
     "shell.execute_reply": "2021-11-08T19:36:35.239509Z",
     "shell.execute_reply.started": "2021-11-08T19:20:40.380512Z"
    },
    "papermill": {
     "duration": 0.058515,
     "end_time": "2021-11-08T19:36:35.240239",
     "exception": false,
     "start_time": "2021-11-08T19:36:35.181724",
     "status": "completed"
    },
    "tags": []
   },
   "outputs": [
    {
     "data": {
      "text/plain": [
       "(209, 12)"
      ]
     },
     "execution_count": 17,
     "metadata": {},
     "output_type": "execute_result"
    }
   ],
   "source": [
    "X_train_scaled.shape"
   ]
  },
  {
   "cell_type": "code",
   "execution_count": 18,
   "id": "de55a0c7",
   "metadata": {
    "execution": {
     "iopub.execute_input": "2021-11-08T19:36:35.345575Z",
     "iopub.status.busy": "2021-11-08T19:36:35.344875Z",
     "iopub.status.idle": "2021-11-08T19:36:35.348474Z",
     "shell.execute_reply": "2021-11-08T19:36:35.348970Z",
     "shell.execute_reply.started": "2021-11-08T19:20:40.387664Z"
    },
    "papermill": {
     "duration": 0.059007,
     "end_time": "2021-11-08T19:36:35.349145",
     "exception": false,
     "start_time": "2021-11-08T19:36:35.290138",
     "status": "completed"
    },
    "tags": []
   },
   "outputs": [
    {
     "data": {
      "text/plain": [
       "(90, 12)"
      ]
     },
     "execution_count": 18,
     "metadata": {},
     "output_type": "execute_result"
    }
   ],
   "source": [
    "X_test_scaled.shape"
   ]
  },
  {
   "cell_type": "code",
   "execution_count": 19,
   "id": "19fa890e",
   "metadata": {
    "execution": {
     "iopub.execute_input": "2021-11-08T19:36:35.452048Z",
     "iopub.status.busy": "2021-11-08T19:36:35.451372Z",
     "iopub.status.idle": "2021-11-08T19:36:35.458303Z",
     "shell.execute_reply": "2021-11-08T19:36:35.457708Z",
     "shell.execute_reply.started": "2021-11-08T19:20:40.401576Z"
    },
    "papermill": {
     "duration": 0.060216,
     "end_time": "2021-11-08T19:36:35.458458",
     "exception": false,
     "start_time": "2021-11-08T19:36:35.398242",
     "status": "completed"
    },
    "tags": []
   },
   "outputs": [
    {
     "data": {
      "text/plain": [
       "array([[0.32727273, 0.        , 0.07131921, ..., 1.        , 0.        ,\n",
       "        0.71530249],\n",
       "       [0.54545455, 0.        , 0.01760653, ..., 0.        , 0.        ,\n",
       "        0.22064057],\n",
       "       [0.03636364, 1.        , 0.00803776, ..., 1.        , 1.        ,\n",
       "        0.70106762],\n",
       "       ...,\n",
       "       [0.27272727, 0.        , 0.09249809, ..., 1.        , 0.        ,\n",
       "        0.29893238],\n",
       "       [0.07272727, 0.        , 0.07131921, ..., 1.        , 1.        ,\n",
       "        0.85409253],\n",
       "       [0.72727273, 0.        , 0.11163562, ..., 1.        , 1.        ,\n",
       "        0.29537367]])"
      ]
     },
     "execution_count": 19,
     "metadata": {},
     "output_type": "execute_result"
    }
   ],
   "source": [
    "X_train_scaled"
   ]
  },
  {
   "cell_type": "code",
   "execution_count": 20,
   "id": "824416f1",
   "metadata": {
    "execution": {
     "iopub.execute_input": "2021-11-08T19:36:35.563551Z",
     "iopub.status.busy": "2021-11-08T19:36:35.562853Z",
     "iopub.status.idle": "2021-11-08T19:36:35.567065Z",
     "shell.execute_reply": "2021-11-08T19:36:35.567679Z",
     "shell.execute_reply.started": "2021-11-08T19:20:40.416784Z"
    },
    "papermill": {
     "duration": 0.059499,
     "end_time": "2021-11-08T19:36:35.567879",
     "exception": false,
     "start_time": "2021-11-08T19:36:35.508380",
     "status": "completed"
    },
    "tags": []
   },
   "outputs": [
    {
     "data": {
      "text/plain": [
       "array([[0.54545455, 0.        , 0.07131921, ..., 1.        , 1.        ,\n",
       "        0.87544484],\n",
       "       [0.18181818, 1.        , 0.03508548, ..., 1.        , 1.        ,\n",
       "        0.83985765],\n",
       "       [0.09090909, 0.        , 0.30862465, ..., 1.        , 0.        ,\n",
       "        0.44483986],\n",
       "       ...,\n",
       "       [0.76363636, 1.        , 0.04541975, ..., 1.        , 0.        ,\n",
       "        0.03202847],\n",
       "       [0.63636364, 1.        , 0.00739985, ..., 1.        , 1.        ,\n",
       "        0.02135231],\n",
       "       [0.18181818, 0.        , 0.02896147, ..., 1.        , 1.        ,\n",
       "        0.41281139]])"
      ]
     },
     "execution_count": 20,
     "metadata": {},
     "output_type": "execute_result"
    }
   ],
   "source": [
    "X_test_scaled"
   ]
  },
  {
   "cell_type": "markdown",
   "id": "5e35e4a3",
   "metadata": {
    "papermill": {
     "duration": 0.050619,
     "end_time": "2021-11-08T19:36:35.669111",
     "exception": false,
     "start_time": "2021-11-08T19:36:35.618492",
     "status": "completed"
    },
    "tags": []
   },
   "source": [
    "# Model Picking"
   ]
  },
  {
   "cell_type": "code",
   "execution_count": 21,
   "id": "a11b95ef",
   "metadata": {
    "execution": {
     "iopub.execute_input": "2021-11-08T19:36:35.773507Z",
     "iopub.status.busy": "2021-11-08T19:36:35.772804Z",
     "iopub.status.idle": "2021-11-08T19:36:35.776757Z",
     "shell.execute_reply": "2021-11-08T19:36:35.777368Z",
     "shell.execute_reply.started": "2021-11-08T19:20:40.427065Z"
    },
    "papermill": {
     "duration": 0.057809,
     "end_time": "2021-11-08T19:36:35.777544",
     "exception": false,
     "start_time": "2021-11-08T19:36:35.719735",
     "status": "completed"
    },
    "tags": []
   },
   "outputs": [],
   "source": [
    "lin_reg = LinearRegression()\n",
    "svr_reg = SVR()\n",
    "rf_reg = RandomForestRegressor()\n",
    "br_reg = BayesianRidge()\n",
    "dec_reg = DecisionTreeRegressor()"
   ]
  },
  {
   "cell_type": "code",
   "execution_count": 22,
   "id": "bcf38104",
   "metadata": {
    "execution": {
     "iopub.execute_input": "2021-11-08T19:36:35.881499Z",
     "iopub.status.busy": "2021-11-08T19:36:35.880772Z",
     "iopub.status.idle": "2021-11-08T19:36:35.900520Z",
     "shell.execute_reply": "2021-11-08T19:36:35.899817Z",
     "shell.execute_reply.started": "2021-11-08T19:20:40.441324Z"
    },
    "papermill": {
     "duration": 0.073223,
     "end_time": "2021-11-08T19:36:35.900671",
     "exception": false,
     "start_time": "2021-11-08T19:36:35.827448",
     "status": "completed"
    },
    "tags": []
   },
   "outputs": [
    {
     "name": "stdout",
     "output_type": "stream",
     "text": [
      "Predictions: [ 0.08935749  0.69294466 -0.07642398  0.51924333  0.62883661]\n",
      "Labels: [0, 1, 0, 1, 1]\n"
     ]
    }
   ],
   "source": [
    "lin_reg.fit(X_train_scaled, y_train)\n",
    "\n",
    "some_data = X_train_scaled[:5]\n",
    "some_labels = y_train[:5]\n",
    "print(\"Predictions:\", lin_reg.predict(some_data)) \n",
    "print(\"Labels:\", list(some_labels))"
   ]
  },
  {
   "cell_type": "code",
   "execution_count": 23,
   "id": "be861e5b",
   "metadata": {
    "execution": {
     "iopub.execute_input": "2021-11-08T19:36:36.009471Z",
     "iopub.status.busy": "2021-11-08T19:36:36.008521Z",
     "iopub.status.idle": "2021-11-08T19:36:36.012046Z",
     "shell.execute_reply": "2021-11-08T19:36:36.012649Z",
     "shell.execute_reply.started": "2021-11-08T19:20:40.457106Z"
    },
    "papermill": {
     "duration": 0.061875,
     "end_time": "2021-11-08T19:36:36.012813",
     "exception": false,
     "start_time": "2021-11-08T19:36:35.950938",
     "status": "completed"
    },
    "tags": []
   },
   "outputs": [
    {
     "data": {
      "text/plain": [
       "0.33210532338076154"
      ]
     },
     "execution_count": 23,
     "metadata": {},
     "output_type": "execute_result"
    }
   ],
   "source": [
    "df_predictions = lin_reg.predict(X_train_scaled)\n",
    "lin_mse = mean_squared_error(y_train, df_predictions)\n",
    "lin_rmse = np.sqrt(lin_mse)\n",
    "lin_rmse"
   ]
  },
  {
   "cell_type": "code",
   "execution_count": 24,
   "id": "731aec68",
   "metadata": {
    "execution": {
     "iopub.execute_input": "2021-11-08T19:36:36.122480Z",
     "iopub.status.busy": "2021-11-08T19:36:36.121376Z",
     "iopub.status.idle": "2021-11-08T19:36:36.133624Z",
     "shell.execute_reply": "2021-11-08T19:36:36.134333Z",
     "shell.execute_reply.started": "2021-11-08T19:20:40.469445Z"
    },
    "papermill": {
     "duration": 0.070664,
     "end_time": "2021-11-08T19:36:36.134521",
     "exception": false,
     "start_time": "2021-11-08T19:36:36.063857",
     "status": "completed"
    },
    "tags": []
   },
   "outputs": [
    {
     "data": {
      "text/plain": [
       "0.2661048529106634"
      ]
     },
     "execution_count": 24,
     "metadata": {},
     "output_type": "execute_result"
    }
   ],
   "source": [
    "svr_reg.fit(X_train_scaled, y_train)\n",
    "\n",
    "df_predictions = svr_reg.predict(X_train_scaled)\n",
    "lin_mse = mean_squared_error(y_train, df_predictions)\n",
    "lin_rmse = np.sqrt(lin_mse)\n",
    "lin_rmse"
   ]
  },
  {
   "cell_type": "code",
   "execution_count": 25,
   "id": "a2c19e26",
   "metadata": {
    "execution": {
     "iopub.execute_input": "2021-11-08T19:36:36.243556Z",
     "iopub.status.busy": "2021-11-08T19:36:36.242379Z",
     "iopub.status.idle": "2021-11-08T19:36:36.470701Z",
     "shell.execute_reply": "2021-11-08T19:36:36.469996Z",
     "shell.execute_reply.started": "2021-11-08T19:20:40.486597Z"
    },
    "papermill": {
     "duration": 0.285314,
     "end_time": "2021-11-08T19:36:36.470862",
     "exception": false,
     "start_time": "2021-11-08T19:36:36.185548",
     "status": "completed"
    },
    "tags": []
   },
   "outputs": [
    {
     "data": {
      "text/plain": [
       "0.12896533416491404"
      ]
     },
     "execution_count": 25,
     "metadata": {},
     "output_type": "execute_result"
    }
   ],
   "source": [
    "rf_reg.fit(X_train_scaled, y_train)\n",
    "\n",
    "df_predictions = rf_reg.predict(X_train_scaled)\n",
    "lin_mse = mean_squared_error(y_train, df_predictions)\n",
    "lin_rmse = np.sqrt(lin_mse)\n",
    "lin_rmse"
   ]
  },
  {
   "cell_type": "code",
   "execution_count": 26,
   "id": "699f3120",
   "metadata": {
    "execution": {
     "iopub.execute_input": "2021-11-08T19:36:36.578396Z",
     "iopub.status.busy": "2021-11-08T19:36:36.577325Z",
     "iopub.status.idle": "2021-11-08T19:36:36.586504Z",
     "shell.execute_reply": "2021-11-08T19:36:36.587151Z",
     "shell.execute_reply.started": "2021-11-08T19:20:40.653368Z"
    },
    "papermill": {
     "duration": 0.064698,
     "end_time": "2021-11-08T19:36:36.587349",
     "exception": false,
     "start_time": "2021-11-08T19:36:36.522651",
     "status": "completed"
    },
    "tags": []
   },
   "outputs": [
    {
     "data": {
      "text/plain": [
       "0.33341895884986267"
      ]
     },
     "execution_count": 26,
     "metadata": {},
     "output_type": "execute_result"
    }
   ],
   "source": [
    "br_reg.fit(X_train_scaled, y_train)\n",
    "\n",
    "df_predictions = br_reg.predict(X_train_scaled)\n",
    "lin_mse = mean_squared_error(y_train, df_predictions)\n",
    "lin_rmse = np.sqrt(lin_mse)\n",
    "lin_rmse"
   ]
  },
  {
   "cell_type": "code",
   "execution_count": 27,
   "id": "b16dacc7",
   "metadata": {
    "execution": {
     "iopub.execute_input": "2021-11-08T19:36:36.697272Z",
     "iopub.status.busy": "2021-11-08T19:36:36.696092Z",
     "iopub.status.idle": "2021-11-08T19:36:36.702264Z",
     "shell.execute_reply": "2021-11-08T19:36:36.702807Z",
     "shell.execute_reply.started": "2021-11-08T19:20:40.663185Z"
    },
    "papermill": {
     "duration": 0.06409,
     "end_time": "2021-11-08T19:36:36.702983",
     "exception": false,
     "start_time": "2021-11-08T19:36:36.638893",
     "status": "completed"
    },
    "tags": []
   },
   "outputs": [
    {
     "data": {
      "text/plain": [
       "0.0"
      ]
     },
     "execution_count": 27,
     "metadata": {},
     "output_type": "execute_result"
    }
   ],
   "source": [
    "dec_reg.fit(X_train_scaled, y_train)\n",
    "\n",
    "df_predictions = dec_reg.predict(X_train_scaled)\n",
    "lin_mse = mean_squared_error(y_train, df_predictions)\n",
    "lin_rmse = np.sqrt(lin_mse)\n",
    "lin_rmse"
   ]
  },
  {
   "cell_type": "markdown",
   "id": "adfab663",
   "metadata": {
    "papermill": {
     "duration": 0.051757,
     "end_time": "2021-11-08T19:36:36.806952",
     "exception": false,
     "start_time": "2021-11-08T19:36:36.755195",
     "status": "completed"
    },
    "tags": []
   },
   "source": [
    "# Model Selection"
   ]
  },
  {
   "cell_type": "code",
   "execution_count": 28,
   "id": "fbdec0dc",
   "metadata": {
    "execution": {
     "iopub.execute_input": "2021-11-08T19:36:36.915227Z",
     "iopub.status.busy": "2021-11-08T19:36:36.914479Z",
     "iopub.status.idle": "2021-11-08T19:36:38.966669Z",
     "shell.execute_reply": "2021-11-08T19:36:38.967213Z",
     "shell.execute_reply.started": "2021-11-08T19:20:40.682349Z"
    },
    "papermill": {
     "duration": 2.10815,
     "end_time": "2021-11-08T19:36:38.967416",
     "exception": false,
     "start_time": "2021-11-08T19:36:36.859266",
     "status": "completed"
    },
    "tags": []
   },
   "outputs": [],
   "source": [
    "scores = cross_val_score(rf_reg, X_train_scaled, y_train, scoring = \"neg_mean_squared_error\", cv=10)\n",
    "rf_rmse_scores = np.sqrt(-scores)"
   ]
  },
  {
   "cell_type": "code",
   "execution_count": 29,
   "id": "bd18743c",
   "metadata": {
    "execution": {
     "iopub.execute_input": "2021-11-08T19:36:39.080008Z",
     "iopub.status.busy": "2021-11-08T19:36:39.079310Z",
     "iopub.status.idle": "2021-11-08T19:36:39.086107Z",
     "shell.execute_reply": "2021-11-08T19:36:39.087109Z",
     "shell.execute_reply.started": "2021-11-08T19:20:42.188481Z"
    },
    "papermill": {
     "duration": 0.066475,
     "end_time": "2021-11-08T19:36:39.087391",
     "exception": false,
     "start_time": "2021-11-08T19:36:39.020916",
     "status": "completed"
    },
    "tags": []
   },
   "outputs": [
    {
     "name": "stdout",
     "output_type": "stream",
     "text": [
      "Scores: [0.41159388 0.42970089 0.2235429  0.23152702 0.27423487 0.35730473\n",
      " 0.37546796 0.43674663 0.25202041 0.25609569]\n",
      "Mean: 0.3248234974090862\n",
      "Standard Deviation: 0.0813757030982767\n"
     ]
    }
   ],
   "source": [
    "def display_scores(scores):\n",
    "    print(\"Scores:\", scores)\n",
    "    print(\"Mean:\", scores.mean())\n",
    "    print(\"Standard Deviation:\", scores.std())\n",
    "\n",
    "display_scores(rf_rmse_scores)"
   ]
  },
  {
   "cell_type": "code",
   "execution_count": 30,
   "id": "639bb007",
   "metadata": {
    "execution": {
     "iopub.execute_input": "2021-11-08T19:36:39.202026Z",
     "iopub.status.busy": "2021-11-08T19:36:39.200827Z",
     "iopub.status.idle": "2021-11-08T19:36:39.224960Z",
     "shell.execute_reply": "2021-11-08T19:36:39.224275Z",
     "shell.execute_reply.started": "2021-11-08T19:20:42.195646Z"
    },
    "papermill": {
     "duration": 0.083525,
     "end_time": "2021-11-08T19:36:39.225117",
     "exception": false,
     "start_time": "2021-11-08T19:36:39.141592",
     "status": "completed"
    },
    "tags": []
   },
   "outputs": [
    {
     "name": "stdout",
     "output_type": "stream",
     "text": [
      "Scores: [0.35151446 0.40561327 0.26250175 0.29775812 0.28602381 0.37523292\n",
      " 0.38561022 0.45900184 0.35003863 0.33844828]\n",
      "Mean: 0.3511743316564688\n",
      "Standard Deviation: 0.05610622284199177\n"
     ]
    }
   ],
   "source": [
    "lin_scores = cross_val_score(lin_reg, X_train_scaled, y_train, scoring = \"neg_mean_squared_error\", cv=10)\n",
    "lin_rmse_scores = np.sqrt(-lin_scores)\n",
    "display_scores(lin_rmse_scores)"
   ]
  },
  {
   "cell_type": "code",
   "execution_count": 31,
   "id": "851dbcf0",
   "metadata": {
    "execution": {
     "iopub.execute_input": "2021-11-08T19:36:39.377402Z",
     "iopub.status.busy": "2021-11-08T19:36:39.376271Z",
     "iopub.status.idle": "2021-11-08T19:36:39.405013Z",
     "shell.execute_reply": "2021-11-08T19:36:39.405689Z",
     "shell.execute_reply.started": "2021-11-08T19:20:42.233154Z"
    },
    "papermill": {
     "duration": 0.102741,
     "end_time": "2021-11-08T19:36:39.405885",
     "exception": false,
     "start_time": "2021-11-08T19:36:39.303144",
     "status": "completed"
    },
    "tags": []
   },
   "outputs": [
    {
     "name": "stdout",
     "output_type": "stream",
     "text": [
      "Scores: [0.6172134  0.43643578 0.         0.3086067  0.48795004 0.48795004\n",
      " 0.48795004 0.53452248 0.21821789 0.2236068 ]\n",
      "Mean: 0.3802453161478157\n",
      "Standard Deviation: 0.17844346717159243\n"
     ]
    }
   ],
   "source": [
    "dec_scores = cross_val_score(dec_reg, X_train_scaled, y_train, scoring = \"neg_mean_squared_error\", cv=10)\n",
    "dec_rmse_scores = np.sqrt(-dec_scores)\n",
    "display_scores(dec_rmse_scores)"
   ]
  },
  {
   "cell_type": "code",
   "execution_count": 32,
   "id": "9490c362",
   "metadata": {
    "execution": {
     "iopub.execute_input": "2021-11-08T19:36:39.518088Z",
     "iopub.status.busy": "2021-11-08T19:36:39.517404Z",
     "iopub.status.idle": "2021-11-08T19:36:39.551848Z",
     "shell.execute_reply": "2021-11-08T19:36:39.551276Z",
     "shell.execute_reply.started": "2021-11-08T19:20:42.263481Z"
    },
    "papermill": {
     "duration": 0.092134,
     "end_time": "2021-11-08T19:36:39.552004",
     "exception": false,
     "start_time": "2021-11-08T19:36:39.459870",
     "status": "completed"
    },
    "tags": []
   },
   "outputs": [
    {
     "name": "stdout",
     "output_type": "stream",
     "text": [
      "Scores: [0.3594615  0.40329655 0.25904635 0.30761875 0.29024329 0.37366589\n",
      " 0.38338321 0.44433727 0.3544447  0.33183418]\n",
      "Mean: 0.35073316892490564\n",
      "Standard Deviation: 0.05242905182889297\n"
     ]
    }
   ],
   "source": [
    "br_scores = cross_val_score(br_reg, X_train_scaled, y_train, scoring = \"neg_mean_squared_error\", cv=10)\n",
    "br_rmse_scores = np.sqrt(-br_scores)\n",
    "display_scores(br_rmse_scores)"
   ]
  },
  {
   "cell_type": "code",
   "execution_count": 33,
   "id": "204923f5",
   "metadata": {
    "execution": {
     "iopub.execute_input": "2021-11-08T19:36:39.670033Z",
     "iopub.status.busy": "2021-11-08T19:36:39.669297Z",
     "iopub.status.idle": "2021-11-08T19:36:39.723935Z",
     "shell.execute_reply": "2021-11-08T19:36:39.724816Z",
     "shell.execute_reply.started": "2021-11-08T19:20:42.293130Z"
    },
    "papermill": {
     "duration": 0.119025,
     "end_time": "2021-11-08T19:36:39.725093",
     "exception": false,
     "start_time": "2021-11-08T19:36:39.606068",
     "status": "completed"
    },
    "tags": []
   },
   "outputs": [
    {
     "name": "stdout",
     "output_type": "stream",
     "text": [
      "Scores: [0.43442903 0.40810288 0.27341299 0.29235157 0.35791677 0.36070467\n",
      " 0.40158117 0.46097858 0.43538584 0.30260683]\n",
      "Mean: 0.37274703196635445\n",
      "Standard Deviation: 0.06261774886480917\n"
     ]
    }
   ],
   "source": [
    "svr_scores = cross_val_score(svr_reg, X_train_scaled, y_train, scoring = \"neg_mean_squared_error\", cv=10)\n",
    "svr_rmse_scores = np.sqrt(-svr_scores)\n",
    "display_scores(svr_rmse_scores)"
   ]
  },
  {
   "cell_type": "markdown",
   "id": "94efa602",
   "metadata": {
    "papermill": {
     "duration": 0.054625,
     "end_time": "2021-11-08T19:36:39.835393",
     "exception": false,
     "start_time": "2021-11-08T19:36:39.780768",
     "status": "completed"
    },
    "tags": []
   },
   "source": [
    "# Model Tuning"
   ]
  },
  {
   "cell_type": "code",
   "execution_count": 34,
   "id": "10484a4c",
   "metadata": {
    "execution": {
     "iopub.execute_input": "2021-11-08T19:36:39.957766Z",
     "iopub.status.busy": "2021-11-08T19:36:39.954314Z",
     "iopub.status.idle": "2021-11-08T19:36:42.307278Z",
     "shell.execute_reply": "2021-11-08T19:36:42.306699Z",
     "shell.execute_reply.started": "2021-11-08T19:20:42.359656Z"
    },
    "papermill": {
     "duration": 2.416919,
     "end_time": "2021-11-08T19:36:42.307435",
     "exception": false,
     "start_time": "2021-11-08T19:36:39.890516",
     "status": "completed"
    },
    "tags": []
   },
   "outputs": [
    {
     "data": {
      "text/plain": [
       "GridSearchCV(cv=5, estimator=RandomForestRegressor(),\n",
       "             param_grid=[{'max_features': [2, 4, 6, 8],\n",
       "                          'n_estimators': [3, 10, 30]},\n",
       "                         {'bootstrap': [False], 'max_features': [2, 3, 4],\n",
       "                          'n_estimators': [3, 10]}],\n",
       "             return_train_score=True, scoring='neg_mean_squared_error')"
      ]
     },
     "execution_count": 34,
     "metadata": {},
     "output_type": "execute_result"
    }
   ],
   "source": [
    "param_grid = [\n",
    "    {'n_estimators': [3, 10, 30], 'max_features': [2,4,6,8]},\n",
    "    {'bootstrap': [False], 'n_estimators': [3,10], 'max_features': [2,3,4]}\n",
    "]\n",
    "\n",
    "rf_reg = RandomForestRegressor()\n",
    "\n",
    "grid_search = GridSearchCV(rf_reg, param_grid, cv=5, scoring='neg_mean_squared_error', return_train_score=True)\n",
    "\n",
    "grid_search.fit(X_train_scaled, y_train)"
   ]
  },
  {
   "cell_type": "code",
   "execution_count": 35,
   "id": "57f0b46a",
   "metadata": {
    "execution": {
     "iopub.execute_input": "2021-11-08T19:36:42.422310Z",
     "iopub.status.busy": "2021-11-08T19:36:42.421205Z",
     "iopub.status.idle": "2021-11-08T19:36:42.427431Z",
     "shell.execute_reply": "2021-11-08T19:36:42.427992Z",
     "shell.execute_reply.started": "2021-11-08T19:20:44.129066Z"
    },
    "papermill": {
     "duration": 0.065316,
     "end_time": "2021-11-08T19:36:42.428195",
     "exception": false,
     "start_time": "2021-11-08T19:36:42.362879",
     "status": "completed"
    },
    "tags": []
   },
   "outputs": [
    {
     "data": {
      "text/plain": [
       "{'max_features': 6, 'n_estimators': 10}"
      ]
     },
     "execution_count": 35,
     "metadata": {},
     "output_type": "execute_result"
    }
   ],
   "source": [
    "grid_search.best_params_"
   ]
  },
  {
   "cell_type": "code",
   "execution_count": 36,
   "id": "9834201f",
   "metadata": {
    "execution": {
     "iopub.execute_input": "2021-11-08T19:36:42.542833Z",
     "iopub.status.busy": "2021-11-08T19:36:42.541750Z",
     "iopub.status.idle": "2021-11-08T19:36:42.547905Z",
     "shell.execute_reply": "2021-11-08T19:36:42.548526Z",
     "shell.execute_reply.started": "2021-11-08T19:20:44.139483Z"
    },
    "papermill": {
     "duration": 0.065328,
     "end_time": "2021-11-08T19:36:42.548710",
     "exception": false,
     "start_time": "2021-11-08T19:36:42.483382",
     "status": "completed"
    },
    "tags": []
   },
   "outputs": [
    {
     "data": {
      "text/plain": [
       "RandomForestRegressor(max_features=6, n_estimators=10)"
      ]
     },
     "execution_count": 36,
     "metadata": {},
     "output_type": "execute_result"
    }
   ],
   "source": [
    "grid_search.best_estimator_"
   ]
  },
  {
   "cell_type": "code",
   "execution_count": 37,
   "id": "9471723b",
   "metadata": {
    "execution": {
     "iopub.execute_input": "2021-11-08T19:36:42.664402Z",
     "iopub.status.busy": "2021-11-08T19:36:42.663304Z",
     "iopub.status.idle": "2021-11-08T19:36:42.675515Z",
     "shell.execute_reply": "2021-11-08T19:36:42.674761Z",
     "shell.execute_reply.started": "2021-11-08T19:20:44.154870Z"
    },
    "papermill": {
     "duration": 0.07141,
     "end_time": "2021-11-08T19:36:42.675676",
     "exception": false,
     "start_time": "2021-11-08T19:36:42.604266",
     "status": "completed"
    },
    "tags": []
   },
   "outputs": [
    {
     "name": "stdout",
     "output_type": "stream",
     "text": [
      "0.4072196566408331 {'max_features': 2, 'n_estimators': 3}\n",
      "0.3463950736346109 {'max_features': 2, 'n_estimators': 10}\n",
      "0.31610429514596966 {'max_features': 2, 'n_estimators': 30}\n",
      "0.3438901288194314 {'max_features': 4, 'n_estimators': 3}\n",
      "0.32509089232006194 {'max_features': 4, 'n_estimators': 10}\n",
      "0.31569925787388065 {'max_features': 4, 'n_estimators': 30}\n",
      "0.4002999262699636 {'max_features': 6, 'n_estimators': 3}\n",
      "0.31112922352010425 {'max_features': 6, 'n_estimators': 10}\n",
      "0.3236560805623244 {'max_features': 6, 'n_estimators': 30}\n",
      "0.3354366471109877 {'max_features': 8, 'n_estimators': 3}\n",
      "0.32722214499005586 {'max_features': 8, 'n_estimators': 10}\n",
      "0.3232994262826864 {'max_features': 8, 'n_estimators': 30}\n",
      "0.36722760035959523 {'bootstrap': False, 'max_features': 2, 'n_estimators': 3}\n",
      "0.3292196806718816 {'bootstrap': False, 'max_features': 2, 'n_estimators': 10}\n",
      "0.35975429305898615 {'bootstrap': False, 'max_features': 3, 'n_estimators': 3}\n",
      "0.33344191030726955 {'bootstrap': False, 'max_features': 3, 'n_estimators': 10}\n",
      "0.35980809613908343 {'bootstrap': False, 'max_features': 4, 'n_estimators': 3}\n",
      "0.3368364126299338 {'bootstrap': False, 'max_features': 4, 'n_estimators': 10}\n"
     ]
    }
   ],
   "source": [
    "cvres = grid_search.cv_results_\n",
    "for mean_score, params in zip(cvres[\"mean_test_score\"], cvres[\"params\"]):\n",
    "    print(np.sqrt(-mean_score), params)"
   ]
  },
  {
   "cell_type": "markdown",
   "id": "50adc816",
   "metadata": {
    "papermill": {
     "duration": 0.056294,
     "end_time": "2021-11-08T19:36:42.787967",
     "exception": false,
     "start_time": "2021-11-08T19:36:42.731673",
     "status": "completed"
    },
    "tags": []
   },
   "source": [
    "# Pick the Best Model"
   ]
  },
  {
   "cell_type": "code",
   "execution_count": 38,
   "id": "40f919dd",
   "metadata": {
    "execution": {
     "iopub.execute_input": "2021-11-08T19:36:42.911663Z",
     "iopub.status.busy": "2021-11-08T19:36:42.910452Z",
     "iopub.status.idle": "2021-11-08T19:36:42.914673Z",
     "shell.execute_reply": "2021-11-08T19:36:42.915216Z",
     "shell.execute_reply.started": "2021-11-08T19:35:17.228736Z"
    },
    "papermill": {
     "duration": 0.071128,
     "end_time": "2021-11-08T19:36:42.915412",
     "exception": false,
     "start_time": "2021-11-08T19:36:42.844284",
     "status": "completed"
    },
    "tags": []
   },
   "outputs": [],
   "source": [
    "final_model = grid_search.best_estimator_\n",
    "\n",
    "X_test_scaled = df.drop(\"DEATH_EVENT\", axis=1)\n",
    "y_test = df[\"DEATH_EVENT\"]\n",
    "\n",
    "final_predictions = final_model.predict(X_test_scaled)\n",
    "\n",
    "final_mse = mean_squared_error(y_test, final_predictions)\n",
    "final_rmse = np.sqrt(final_mse)"
   ]
  },
  {
   "cell_type": "code",
   "execution_count": 39,
   "id": "5b450323",
   "metadata": {
    "execution": {
     "iopub.execute_input": "2021-11-08T19:36:43.035102Z",
     "iopub.status.busy": "2021-11-08T19:36:43.034127Z",
     "iopub.status.idle": "2021-11-08T19:36:43.037770Z",
     "shell.execute_reply": "2021-11-08T19:36:43.038355Z",
     "shell.execute_reply.started": "2021-11-08T19:35:24.569455Z"
    },
    "papermill": {
     "duration": 0.066437,
     "end_time": "2021-11-08T19:36:43.038525",
     "exception": false,
     "start_time": "2021-11-08T19:36:42.972088",
     "status": "completed"
    },
    "tags": []
   },
   "outputs": [
    {
     "data": {
      "text/plain": [
       "0.47032330728757893"
      ]
     },
     "execution_count": 39,
     "metadata": {},
     "output_type": "execute_result"
    }
   ],
   "source": [
    "final_rmse"
   ]
  }
 ],
 "metadata": {
  "kernelspec": {
   "display_name": "Python 3",
   "language": "python",
   "name": "python3"
  },
  "language_info": {
   "codemirror_mode": {
    "name": "ipython",
    "version": 3
   },
   "file_extension": ".py",
   "mimetype": "text/x-python",
   "name": "python",
   "nbconvert_exporter": "python",
   "pygments_lexer": "ipython3",
   "version": "3.7.10"
  },
  "papermill": {
   "default_parameters": {},
   "duration": 26.226024,
   "end_time": "2021-11-08T19:36:43.806103",
   "environment_variables": {},
   "exception": null,
   "input_path": "__notebook__.ipynb",
   "output_path": "__notebook__.ipynb",
   "parameters": {},
   "start_time": "2021-11-08T19:36:17.580079",
   "version": "2.3.3"
  }
 },
 "nbformat": 4,
 "nbformat_minor": 5
}
